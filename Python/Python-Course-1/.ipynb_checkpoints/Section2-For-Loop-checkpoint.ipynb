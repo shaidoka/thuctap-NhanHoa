{
 "cells": [
  {
   "cell_type": "code",
   "execution_count": 1,
   "id": "b2990f82",
   "metadata": {},
   "outputs": [
    {
     "name": "stdout",
     "output_type": "stream",
     "text": [
      "Hello Python\n",
      "Hello Python\n",
      "Hello Python\n",
      "Hello Python\n",
      "Hello Python\n"
     ]
    }
   ],
   "source": [
    "for i in range(5):\n",
    "    print(\"Hello Python\")"
   ]
  },
  {
   "cell_type": "code",
   "execution_count": 2,
   "id": "96f7c308",
   "metadata": {},
   "outputs": [
    {
     "data": {
      "text/plain": [
       "range(0, 5)"
      ]
     },
     "execution_count": 2,
     "metadata": {},
     "output_type": "execute_result"
    }
   ],
   "source": [
    "range(5)"
   ]
  },
  {
   "cell_type": "code",
   "execution_count": 3,
   "id": "216ac431",
   "metadata": {},
   "outputs": [
    {
     "data": {
      "text/plain": [
       "[0, 1, 2, 3, 4]"
      ]
     },
     "execution_count": 3,
     "metadata": {},
     "output_type": "execute_result"
    }
   ],
   "source": [
    "list(range(5))"
   ]
  },
  {
   "cell_type": "markdown",
   "id": "9ff1581e",
   "metadata": {},
   "source": [
    "---"
   ]
  },
  {
   "cell_type": "code",
   "execution_count": 5,
   "id": "e4c6de02",
   "metadata": {},
   "outputs": [
    {
     "name": "stdout",
     "output_type": "stream",
     "text": [
      "Hello Python:  0\n",
      "Hello Python:  1\n",
      "Hello Python:  2\n",
      "Hello Python:  3\n",
      "Hello Python:  4\n"
     ]
    }
   ],
   "source": [
    "for i in range(5):\n",
    "    print(\"Hello Python: \", i)"
   ]
  },
  {
   "cell_type": "code",
   "execution_count": 6,
   "id": "1ec7b0da",
   "metadata": {},
   "outputs": [],
   "source": [
    "mylist = [10, 100, 1000]"
   ]
  },
  {
   "cell_type": "code",
   "execution_count": 8,
   "id": "1a3a2298",
   "metadata": {},
   "outputs": [
    {
     "name": "stdout",
     "output_type": "stream",
     "text": [
      "i is equal to:  10\n",
      "i is equal to:  100\n",
      "i is equal to:  1000\n"
     ]
    }
   ],
   "source": [
    "for i in mylist:\n",
    "    print(\"i is equal to: \", i)"
   ]
  },
  {
   "cell_type": "code",
   "execution_count": null,
   "id": "8fe07cbd",
   "metadata": {},
   "outputs": [],
   "source": []
  }
 ],
 "metadata": {
  "kernelspec": {
   "display_name": "Python 3 (ipykernel)",
   "language": "python",
   "name": "python3"
  },
  "language_info": {
   "codemirror_mode": {
    "name": "ipython",
    "version": 3
   },
   "file_extension": ".py",
   "mimetype": "text/x-python",
   "name": "python",
   "nbconvert_exporter": "python",
   "pygments_lexer": "ipython3",
   "version": "3.11.4"
  }
 },
 "nbformat": 4,
 "nbformat_minor": 5
}
