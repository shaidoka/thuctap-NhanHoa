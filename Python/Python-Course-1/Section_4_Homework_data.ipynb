{
 "cells": [
  {
   "cell_type": "markdown",
   "metadata": {},
   "source": [
    "## Section 4 Homework data\n",
    "\n",
    "Dear Student,\n",
    "\n",
    "Welcome to the dataset for the homework exercise.\n",
    "\n",
    "**Instructions for this dataset:**\n",
    "\n",
    "You have only been supplied vectors. You will need to create the matrices yourself.\n",
    "\n",
    "Matrices:\n",
    " - FreeThrows\n",
    " - FreeThrowAttempts\n",
    "\n",
    "Sincerely,\n",
    "\n",
    "Kirill Eremenko\n",
    "\n",
    "[Super Data Science](http://www.superdatascience.com)\n",
    "\n",
    "Copyright: These datasets were prepared using publicly available data.\n",
    "           However, theses scripts are subject to Copyright Laws. \n",
    "           If you wish to use these R scripts outside of the R Programming Course\n",
    "           by Kirill Eremenko, you may do so by referencing www.superdatascience.com in your work.\n",
    "\n",
    "*Comments:*\n",
    "Seasons are labeled based on the first year in the season\n",
    "E.g. the 2012-2013 season is preseneted as simply 2012\n",
    "\n",
    "Notes and Corrections to the data:\n",
    " - Kevin Durant: 2006 - College Data Used\n",
    " - Kevin Durant: 2005 - Proxied With 2006 Data\n",
    " - Derrick Rose: 2012 - Did Not Play\n",
    " - Derrick Rose: 2007 - College Data Used\n",
    " - Derrick Rose: 2006 - Proxied With 2007 Data\n",
    " - Derrick Rose: 2005 - Proxied With 2007 Data"
   ]
  },
  {
   "cell_type": "code",
   "execution_count": null,
   "metadata": {
    "collapsed": true
   },
   "outputs": [],
   "source": [
    "#Seasons\n",
    "Seasons = [\"2005\",\"2006\",\"2007\",\"2008\",\"2009\",\"2010\",\"2011\",\"2012\",\"2013\",\"2014\"]\n",
    "\n",
    "#Players\n",
    "Players = [\"KobeBryant\",\"JoeJohnson\",\"LeBronJames\",\"CarmeloAnthony\",\"DwightHoward\",\"ChrisBosh\",\"ChrisPaul\",\"KevinDurant\",\"DerrickRose\",\"DwayneWade\"]\n",
    "\n",
    "#Free Throws\n",
    "KobeBryant_FT = [696,667,623,483,439,483,381,525,18,196]\n",
    "JoeJohnson_FT = [261,235,316,299,220,195,158,132,159,141]\n",
    "LeBronJames_FT = [601,489,549,594,593,503,387,403,439,375]\n",
    "CarmeloAnthony_FT = [573,459,464,371,508,507,295,425,459,189]\n",
    "DwightHoward_FT = [356,390,529,504,483,546,281,355,349,143]\n",
    "ChrisBosh_FT = [474,463,472,504,470,384,229,241,223,179]\n",
    "ChrisPaul_FT = [394,292,332,455,161,337,260,286,295,289]\n",
    "KevinDurant_FT = [209,209,391,452,756,594,431,679,703,146]\n",
    "DerrickRose_FT = [146,146,146,197,259,476,194,0,27,152]\n",
    "DwayneWade_FT = [629,432,354,590,534,494,235,308,189,284]\n",
    "\n",
    "#Matrix\n",
    "#\n",
    "# <put your code here>\n",
    "#\n",
    "\n",
    "#Free Throw Attempts\n",
    "KobeBryant_FTA = [819,768,742,564,541,583,451,626,21,241]\n",
    "JoeJohnson_FTA = [330,314,379,362,269,243,186,161,195,176]\n",
    "LeBronJames_FTA = [814,701,771,762,773,663,502,535,585,528]\n",
    "CarmeloAnthony_FTA = [709,568,590,468,612,605,367,512,541,237]\n",
    "DwightHoward_FTA = [598,666,897,849,816,916,572,721,638,271]\n",
    "ChrisBosh_FTA = [581,590,559,617,590,471,279,302,272,232]\n",
    "ChrisPaul_FTA = [465,357,390,524,190,384,302,323,345,321]\n",
    "KevinDurant_FTA = [256,256,448,524,840,675,501,750,805,171]\n",
    "DerrickRose_FTA = [205,205,205,250,338,555,239,0,32,187]\n",
    "DwayneWade_FTA = [803,535,467,771,702,652,297,425,258,370]\n",
    "\n",
    "#Matrix\n",
    "#\n",
    "# <put your code here>\n",
    "#"
   ]
  },
  {
   "cell_type": "code",
   "execution_count": null,
   "metadata": {
    "collapsed": true
   },
   "outputs": [],
   "source": []
  }
 ],
 "metadata": {
  "anaconda-cloud": {},
  "kernelspec": {
   "display_name": "Python [default]",
   "language": "python",
   "name": "python3"
  },
  "language_info": {
   "codemirror_mode": {
    "name": "ipython",
    "version": 3
   },
   "file_extension": ".py",
   "mimetype": "text/x-python",
   "name": "python",
   "nbconvert_exporter": "python",
   "pygments_lexer": "ipython3",
   "version": "3.5.2"
  }
 },
 "nbformat": 4,
 "nbformat_minor": 1
}
